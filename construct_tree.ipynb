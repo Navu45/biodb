{
 "cells": [
  {
   "cell_type": "code",
   "execution_count": 9,
   "metadata": {},
   "outputs": [],
   "source": [
    "import os\n",
    "from Bio import AlignIO\n",
    "from Bio import Phylo\n",
    "from Bio.Phylo.TreeConstruction import DistanceCalculator, DistanceTreeConstructor\n",
    "from Bio.Align import MultipleSeqAlignment, SeqRecord\n",
    "from Bio.Phylo.Consensus import *"
   ]
  },
  {
   "cell_type": "code",
   "execution_count": 2,
   "metadata": {},
   "outputs": [],
   "source": [
    "INPUT  = \"data/align_seed_1_final.fas\"\n",
    "ARG_TREE = \"UPGMA\" # NJ / UPGMA"
   ]
  },
  {
   "cell_type": "code",
   "execution_count": 3,
   "metadata": {},
   "outputs": [
    {
     "data": {
      "text/plain": [
       "<<class 'Bio.Align.MultipleSeqAlignment'> instance (170 records of length 1548) at 28a6ef8a2f0>"
      ]
     },
     "execution_count": 3,
     "metadata": {},
     "output_type": "execute_result"
    }
   ],
   "source": [
    "## reading the alignments\n",
    "\n",
    "align = AlignIO.read(INPUT, 'fasta')\n",
    "align"
   ]
  },
  {
   "cell_type": "code",
   "execution_count": 4,
   "metadata": {},
   "outputs": [],
   "source": [
    "align = MultipleSeqAlignment([SeqRecord(\n",
    "    record.seq,\n",
    "    record.description,\n",
    "    record.description,\n",
    "    record.description\n",
    ") for record in align._records])"
   ]
  },
  {
   "cell_type": "code",
   "execution_count": 10,
   "metadata": {},
   "outputs": [],
   "source": [
    "msas = bootstrap(align, 800)"
   ]
  },
  {
   "cell_type": "code",
   "execution_count": 11,
   "metadata": {},
   "outputs": [],
   "source": [
    "calculator = DistanceCalculator(\"blosum62\")\n",
    "constructor = DistanceTreeConstructor(calculator)\n",
    "trees = bootstrap_trees(align, 800, constructor)"
   ]
  },
  {
   "cell_type": "code",
   "execution_count": 12,
   "metadata": {},
   "outputs": [
    {
     "ename": "KeyboardInterrupt",
     "evalue": "",
     "output_type": "error",
     "traceback": [
      "\u001b[1;31m---------------------------------------------------------------------------\u001b[0m",
      "\u001b[1;31mKeyboardInterrupt\u001b[0m                         Traceback (most recent call last)",
      "Input \u001b[1;32mIn [12]\u001b[0m, in \u001b[0;36m<cell line: 1>\u001b[1;34m()\u001b[0m\n\u001b[1;32m----> 1\u001b[0m consensus_tree \u001b[38;5;241m=\u001b[39m \u001b[43mbootstrap_consensus\u001b[49m\u001b[43m(\u001b[49m\u001b[43malign\u001b[49m\u001b[43m,\u001b[49m\u001b[43m \u001b[49m\u001b[38;5;241;43m800\u001b[39;49m\u001b[43m,\u001b[49m\u001b[43m \u001b[49m\u001b[43mconstructor\u001b[49m\u001b[43m,\u001b[49m\u001b[43m \u001b[49m\u001b[43mmajority_consensus\u001b[49m\u001b[43m)\u001b[49m\n",
      "File \u001b[1;32mc:\\Users\\Alexey\\anaconda3\\envs\\bigdata1\\lib\\site-packages\\Bio\\Phylo\\Consensus.py:614\u001b[0m, in \u001b[0;36mbootstrap_consensus\u001b[1;34m(alignment, times, tree_constructor, consensus)\u001b[0m\n\u001b[0;32m    599\u001b[0m \u001b[38;5;124;03m\"\"\"Consensus tree of a series of bootstrap trees for a multiple sequence alignment.\u001b[39;00m\n\u001b[0;32m    600\u001b[0m \n\u001b[0;32m    601\u001b[0m \u001b[38;5;124;03m:Parameters:\u001b[39;00m\n\u001b[1;32m   (...)\u001b[0m\n\u001b[0;32m    611\u001b[0m \n\u001b[0;32m    612\u001b[0m \u001b[38;5;124;03m\"\"\"\u001b[39;00m\n\u001b[0;32m    613\u001b[0m trees \u001b[38;5;241m=\u001b[39m bootstrap_trees(alignment, times, tree_constructor)\n\u001b[1;32m--> 614\u001b[0m tree \u001b[38;5;241m=\u001b[39m \u001b[43mconsensus\u001b[49m\u001b[43m(\u001b[49m\u001b[43mtrees\u001b[49m\u001b[43m)\u001b[49m\n\u001b[0;32m    615\u001b[0m \u001b[38;5;28;01mreturn\u001b[39;00m tree\n",
      "File \u001b[1;32mc:\\Users\\Alexey\\anaconda3\\envs\\bigdata1\\lib\\site-packages\\Bio\\Phylo\\Consensus.py:294\u001b[0m, in \u001b[0;36mmajority_consensus\u001b[1;34m(trees, cutoff)\u001b[0m\n\u001b[0;32m    291\u001b[0m first_tree \u001b[38;5;241m=\u001b[39m \u001b[38;5;28mnext\u001b[39m(tree_iter)\n\u001b[0;32m    293\u001b[0m terms \u001b[38;5;241m=\u001b[39m first_tree\u001b[38;5;241m.\u001b[39mget_terminals()\n\u001b[1;32m--> 294\u001b[0m bitstr_counts, tree_count \u001b[38;5;241m=\u001b[39m \u001b[43m_count_clades\u001b[49m\u001b[43m(\u001b[49m\u001b[43mitertools\u001b[49m\u001b[38;5;241;43m.\u001b[39;49m\u001b[43mchain\u001b[49m\u001b[43m(\u001b[49m\u001b[43m[\u001b[49m\u001b[43mfirst_tree\u001b[49m\u001b[43m]\u001b[49m\u001b[43m,\u001b[49m\u001b[43m \u001b[49m\u001b[43mtree_iter\u001b[49m\u001b[43m)\u001b[49m\u001b[43m)\u001b[49m\n\u001b[0;32m    296\u001b[0m \u001b[38;5;66;03m# Sort bitstrs by descending #occurrences, then #tips, then tip order\u001b[39;00m\n\u001b[0;32m    297\u001b[0m bitstrs \u001b[38;5;241m=\u001b[39m \u001b[38;5;28msorted\u001b[39m(\n\u001b[0;32m    298\u001b[0m     bitstr_counts\u001b[38;5;241m.\u001b[39mkeys(),\n\u001b[0;32m    299\u001b[0m     key\u001b[38;5;241m=\u001b[39m\u001b[38;5;28;01mlambda\u001b[39;00m bitstr: (bitstr_counts[bitstr][\u001b[38;5;241m0\u001b[39m], bitstr\u001b[38;5;241m.\u001b[39mcount(\u001b[38;5;124m\"\u001b[39m\u001b[38;5;124m1\u001b[39m\u001b[38;5;124m\"\u001b[39m), \u001b[38;5;28mstr\u001b[39m(bitstr)),\n\u001b[0;32m    300\u001b[0m     reverse\u001b[38;5;241m=\u001b[39m\u001b[38;5;28;01mTrue\u001b[39;00m,\n\u001b[0;32m    301\u001b[0m )\n",
      "File \u001b[1;32mc:\\Users\\Alexey\\anaconda3\\envs\\bigdata1\\lib\\site-packages\\Bio\\Phylo\\Consensus.py:487\u001b[0m, in \u001b[0;36m_count_clades\u001b[1;34m(trees)\u001b[0m\n\u001b[0;32m    485\u001b[0m bitstrs \u001b[38;5;241m=\u001b[39m {}\n\u001b[0;32m    486\u001b[0m tree_count \u001b[38;5;241m=\u001b[39m \u001b[38;5;241m0\u001b[39m\n\u001b[1;32m--> 487\u001b[0m \u001b[38;5;28;01mfor\u001b[39;00m tree \u001b[38;5;129;01min\u001b[39;00m trees:\n\u001b[0;32m    488\u001b[0m     tree_count \u001b[38;5;241m+\u001b[39m\u001b[38;5;241m=\u001b[39m \u001b[38;5;241m1\u001b[39m\n\u001b[0;32m    489\u001b[0m     clade_bitstrs \u001b[38;5;241m=\u001b[39m _tree_to_bitstrs(tree)\n",
      "File \u001b[1;32mc:\\Users\\Alexey\\anaconda3\\envs\\bigdata1\\lib\\site-packages\\Bio\\Phylo\\Consensus.py:588\u001b[0m, in \u001b[0;36mbootstrap_trees\u001b[1;34m(alignment, times, tree_constructor)\u001b[0m\n\u001b[0;32m    586\u001b[0m             \u001b[38;5;28;01melse\u001b[39;00m:\n\u001b[0;32m    587\u001b[0m                 bootstrapped_alignment \u001b[38;5;241m+\u001b[39m\u001b[38;5;241m=\u001b[39m alignment[:, col : col \u001b[38;5;241m+\u001b[39m \u001b[38;5;241m1\u001b[39m]\n\u001b[1;32m--> 588\u001b[0m         tree \u001b[38;5;241m=\u001b[39m \u001b[43mtree_constructor\u001b[49m\u001b[38;5;241;43m.\u001b[39;49m\u001b[43mbuild_tree\u001b[49m\u001b[43m(\u001b[49m\u001b[43mbootstrapped_alignment\u001b[49m\u001b[43m)\u001b[49m\n\u001b[0;32m    589\u001b[0m         \u001b[38;5;28;01myield\u001b[39;00m tree\n\u001b[0;32m    590\u001b[0m \u001b[38;5;28;01melse\u001b[39;00m:\n",
      "File \u001b[1;32mc:\\Users\\Alexey\\anaconda3\\envs\\bigdata1\\lib\\site-packages\\Bio\\Phylo\\TreeConstruction.py:698\u001b[0m, in \u001b[0;36mDistanceTreeConstructor.build_tree\u001b[1;34m(self, msa)\u001b[0m\n\u001b[0;32m    696\u001b[0m \u001b[38;5;124;03m\"\"\"Construct and return a Tree, Neighbor Joining or UPGMA.\"\"\"\u001b[39;00m\n\u001b[0;32m    697\u001b[0m \u001b[38;5;28;01mif\u001b[39;00m \u001b[38;5;28mself\u001b[39m\u001b[38;5;241m.\u001b[39mdistance_calculator:\n\u001b[1;32m--> 698\u001b[0m     dm \u001b[38;5;241m=\u001b[39m \u001b[38;5;28;43mself\u001b[39;49m\u001b[38;5;241;43m.\u001b[39;49m\u001b[43mdistance_calculator\u001b[49m\u001b[38;5;241;43m.\u001b[39;49m\u001b[43mget_distance\u001b[49m\u001b[43m(\u001b[49m\u001b[43mmsa\u001b[49m\u001b[43m)\u001b[49m\n\u001b[0;32m    699\u001b[0m     tree \u001b[38;5;241m=\u001b[39m \u001b[38;5;28;01mNone\u001b[39;00m\n\u001b[0;32m    700\u001b[0m     \u001b[38;5;28;01mif\u001b[39;00m \u001b[38;5;28mself\u001b[39m\u001b[38;5;241m.\u001b[39mmethod \u001b[38;5;241m==\u001b[39m \u001b[38;5;124m\"\u001b[39m\u001b[38;5;124mupgma\u001b[39m\u001b[38;5;124m\"\u001b[39m:\n",
      "File \u001b[1;32mc:\\Users\\Alexey\\anaconda3\\envs\\bigdata1\\lib\\site-packages\\Bio\\Phylo\\TreeConstruction.py:568\u001b[0m, in \u001b[0;36mDistanceCalculator.get_distance\u001b[1;34m(self, msa)\u001b[0m\n\u001b[0;32m    566\u001b[0m     dm \u001b[38;5;241m=\u001b[39m DistanceMatrix(names)\n\u001b[0;32m    567\u001b[0m     \u001b[38;5;28;01mfor\u001b[39;00m seq1, seq2 \u001b[38;5;129;01min\u001b[39;00m itertools\u001b[38;5;241m.\u001b[39mcombinations(msa, \u001b[38;5;241m2\u001b[39m):\n\u001b[1;32m--> 568\u001b[0m         dm[seq1\u001b[38;5;241m.\u001b[39mid, seq2\u001b[38;5;241m.\u001b[39mid] \u001b[38;5;241m=\u001b[39m \u001b[38;5;28;43mself\u001b[39;49m\u001b[38;5;241;43m.\u001b[39;49m\u001b[43m_pairwise\u001b[49m\u001b[43m(\u001b[49m\u001b[43mseq1\u001b[49m\u001b[43m,\u001b[49m\u001b[43m \u001b[49m\u001b[43mseq2\u001b[49m\u001b[43m)\u001b[49m\n\u001b[0;32m    569\u001b[0m \u001b[38;5;28;01melse\u001b[39;00m:\n\u001b[0;32m    570\u001b[0m     \u001b[38;5;28;01mraise\u001b[39;00m \u001b[38;5;167;01mTypeError\u001b[39;00m(\n\u001b[0;32m    571\u001b[0m         \u001b[38;5;124m\"\u001b[39m\u001b[38;5;124mMust provide an Alignment object or a MultipleSeqAlignment object.\u001b[39m\u001b[38;5;124m\"\u001b[39m\n\u001b[0;32m    572\u001b[0m     )\n",
      "File \u001b[1;32mc:\\Users\\Alexey\\anaconda3\\envs\\bigdata1\\lib\\site-packages\\Bio\\Phylo\\TreeConstruction.py:526\u001b[0m, in \u001b[0;36mDistanceCalculator._pairwise\u001b[1;34m(self, seq1, seq2)\u001b[0m\n\u001b[0;32m    524\u001b[0m max_score2 \u001b[38;5;241m=\u001b[39m \u001b[38;5;241m0\u001b[39m\n\u001b[0;32m    525\u001b[0m \u001b[38;5;28;01mfor\u001b[39;00m i \u001b[38;5;129;01min\u001b[39;00m \u001b[38;5;28mrange\u001b[39m(\u001b[38;5;241m0\u001b[39m, \u001b[38;5;28mlen\u001b[39m(seq1)):\n\u001b[1;32m--> 526\u001b[0m     l1 \u001b[38;5;241m=\u001b[39m \u001b[43mseq1\u001b[49m\u001b[43m[\u001b[49m\u001b[43mi\u001b[49m\u001b[43m]\u001b[49m\n\u001b[0;32m    527\u001b[0m     l2 \u001b[38;5;241m=\u001b[39m seq2[i]\n\u001b[0;32m    528\u001b[0m     \u001b[38;5;28;01mif\u001b[39;00m l1 \u001b[38;5;129;01min\u001b[39;00m \u001b[38;5;28mself\u001b[39m\u001b[38;5;241m.\u001b[39mskip_letters \u001b[38;5;129;01mor\u001b[39;00m l2 \u001b[38;5;129;01min\u001b[39;00m \u001b[38;5;28mself\u001b[39m\u001b[38;5;241m.\u001b[39mskip_letters:\n",
      "File \u001b[1;32mc:\\Users\\Alexey\\anaconda3\\envs\\bigdata1\\lib\\site-packages\\Bio\\SeqRecord.py:502\u001b[0m, in \u001b[0;36mSeqRecord.__getitem__\u001b[1;34m(self, index)\u001b[0m\n\u001b[0;32m    393\u001b[0m \u001b[38;5;28;01mdef\u001b[39;00m \u001b[38;5;21m__getitem__\u001b[39m(\u001b[38;5;28mself\u001b[39m, index):\n\u001b[0;32m    394\u001b[0m     \u001b[38;5;124;03m\"\"\"Return a sub-sequence or an individual letter.\u001b[39;00m\n\u001b[0;32m    395\u001b[0m \n\u001b[0;32m    396\u001b[0m \u001b[38;5;124;03m    Slicing, e.g. my_record[5:10], returns a new SeqRecord for\u001b[39;00m\n\u001b[1;32m   (...)\u001b[0m\n\u001b[0;32m    500\u001b[0m \u001b[38;5;124;03m    'K'\u001b[39;00m\n\u001b[0;32m    501\u001b[0m \u001b[38;5;124;03m    \"\"\"\u001b[39;00m\n\u001b[1;32m--> 502\u001b[0m     \u001b[38;5;28;01mif\u001b[39;00m \u001b[38;5;28;43misinstance\u001b[39;49m\u001b[43m(\u001b[49m\u001b[43mindex\u001b[49m\u001b[43m,\u001b[49m\u001b[43m \u001b[49m\u001b[43mnumbers\u001b[49m\u001b[38;5;241;43m.\u001b[39;49m\u001b[43mIntegral\u001b[49m\u001b[43m)\u001b[49m:\n\u001b[0;32m    503\u001b[0m         \u001b[38;5;66;03m# NOTE - The sequence level annotation like the id, name, etc\u001b[39;00m\n\u001b[0;32m    504\u001b[0m         \u001b[38;5;66;03m# do not really apply to a single character.  However, should\u001b[39;00m\n\u001b[0;32m    505\u001b[0m         \u001b[38;5;66;03m# we try and expose any per-letter-annotation here?  If so how?\u001b[39;00m\n\u001b[0;32m    506\u001b[0m         \u001b[38;5;28;01mreturn\u001b[39;00m \u001b[38;5;28mself\u001b[39m\u001b[38;5;241m.\u001b[39mseq[index]\n\u001b[0;32m    507\u001b[0m     \u001b[38;5;28;01melif\u001b[39;00m \u001b[38;5;28misinstance\u001b[39m(index, \u001b[38;5;28mslice\u001b[39m):\n",
      "File \u001b[1;32mc:\\Users\\Alexey\\anaconda3\\envs\\bigdata1\\lib\\abc.py:119\u001b[0m, in \u001b[0;36mABCMeta.__instancecheck__\u001b[1;34m(cls, instance)\u001b[0m\n\u001b[0;32m    117\u001b[0m \u001b[38;5;28;01mdef\u001b[39;00m \u001b[38;5;21m__instancecheck__\u001b[39m(\u001b[38;5;28mcls\u001b[39m, instance):\n\u001b[0;32m    118\u001b[0m     \u001b[38;5;124;03m\"\"\"Override for isinstance(instance, cls).\"\"\"\u001b[39;00m\n\u001b[1;32m--> 119\u001b[0m     \u001b[38;5;28;01mreturn\u001b[39;00m \u001b[43m_abc_instancecheck\u001b[49m\u001b[43m(\u001b[49m\u001b[38;5;28;43mcls\u001b[39;49m\u001b[43m,\u001b[49m\u001b[43m \u001b[49m\u001b[43minstance\u001b[49m\u001b[43m)\u001b[49m\n",
      "File \u001b[1;32mc:\\Users\\Alexey\\anaconda3\\envs\\bigdata1\\lib\\abc.py:121\u001b[0m, in \u001b[0;36mABCMeta.__subclasscheck__\u001b[1;34m(cls, subclass)\u001b[0m\n\u001b[0;32m    118\u001b[0m     \u001b[38;5;124;03m\"\"\"Override for isinstance(instance, cls).\"\"\"\u001b[39;00m\n\u001b[0;32m    119\u001b[0m     \u001b[38;5;28;01mreturn\u001b[39;00m _abc_instancecheck(\u001b[38;5;28mcls\u001b[39m, instance)\n\u001b[1;32m--> 121\u001b[0m \u001b[38;5;28;01mdef\u001b[39;00m \u001b[38;5;21m__subclasscheck__\u001b[39m(\u001b[38;5;28mcls\u001b[39m, subclass):\n\u001b[0;32m    122\u001b[0m     \u001b[38;5;124;03m\"\"\"Override for issubclass(subclass, cls).\"\"\"\u001b[39;00m\n\u001b[0;32m    123\u001b[0m     \u001b[38;5;28;01mreturn\u001b[39;00m _abc_subclasscheck(\u001b[38;5;28mcls\u001b[39m, subclass)\n",
      "\u001b[1;31mKeyboardInterrupt\u001b[0m: "
     ]
    }
   ],
   "source": [
    "consensus_tree = bootstrap_consensus(align, 800, constructor, majority_consensus)\n"
   ]
  },
  {
   "cell_type": "code",
   "execution_count": 6,
   "metadata": {},
   "outputs": [
    {
     "data": {
      "text/plain": [
       "1"
      ]
     },
     "execution_count": 6,
     "metadata": {},
     "output_type": "execute_result"
    }
   ],
   "source": [
    "Phylo.write(tree, \"tree/tree_2.nwk\", \"newick\")"
   ]
  },
  {
   "cell_type": "code",
   "execution_count": null,
   "metadata": {},
   "outputs": [],
   "source": [
    "from Bio import Phylo\n",
    "from Bio.Phylo.TreeConstruction import DistanceMatrix, DistanceTreeConstructor\n",
    "\n",
    "# Create a custom distance matrix\n",
    "distances = [[0, 0.2, 0.5], [0.2, 0, 0.8], [0.5, 0.8, 0]]\n",
    "\n",
    "# Create a DistanceMatrix object\n",
    "matrix = DistanceMatrix()\n",
    "\n",
    "# Create a DistanceTreeConstructor object\n",
    "constructor = DistanceTreeConstructor()\n",
    "\n",
    "# Bootstrap the trees using the custom distance matrix\n",
    "trees = constructor.bootstrap_trees(matrix)"
   ]
  }
 ],
 "metadata": {
  "kernelspec": {
   "display_name": "bigdata1",
   "language": "python",
   "name": "python3"
  },
  "language_info": {
   "codemirror_mode": {
    "name": "ipython",
    "version": 3
   },
   "file_extension": ".py",
   "mimetype": "text/x-python",
   "name": "python",
   "nbconvert_exporter": "python",
   "pygments_lexer": "ipython3",
   "version": "3.10.4"
  }
 },
 "nbformat": 4,
 "nbformat_minor": 2
}
