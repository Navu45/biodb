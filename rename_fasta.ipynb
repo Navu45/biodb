{
 "cells": [
  {
   "cell_type": "code",
   "execution_count": 22,
   "metadata": {},
   "outputs": [],
   "source": [
    "import os\n",
    "from Bio import AlignIO\n",
    "from Bio import Phylo\n",
    "from Bio.Phylo.TreeConstruction import DistanceCalculator, DistanceTreeConstructor\n",
    "from Bio.Align import MultipleSeqAlignment, SeqRecord\n",
    "\n",
    "import seaborn as sns\n",
    "\n",
    "from collections import defaultdict"
   ]
  },
  {
   "cell_type": "code",
   "execution_count": 23,
   "metadata": {},
   "outputs": [],
   "source": [
    "NUMBER = 1\n",
    "FILE = f'data/seed_{NUMBER}/align_seed_{NUMBER}.fasta'"
   ]
  },
  {
   "cell_type": "code",
   "execution_count": 24,
   "metadata": {},
   "outputs": [
    {
     "data": {
      "text/plain": [
       "<<class 'Bio.Align.MultipleSeqAlignment'> instance (187 records of length 437) at 12d180c48b0>"
      ]
     },
     "execution_count": 24,
     "metadata": {},
     "output_type": "execute_result"
    }
   ],
   "source": [
    "align = AlignIO.read(FILE, format='fasta')\n",
    "all_records = align._records\n",
    "align"
   ]
  },
  {
   "cell_type": "code",
   "execution_count": 25,
   "metadata": {},
   "outputs": [],
   "source": [
    "def filter(record, *names): # нет названий (names) в таксономии\n",
    "    for name in names:\n",
    "        if name in record.description:\n",
    "            return False\n",
    "    return True\n",
    "\n",
    "def get_level(record, num):\n",
    "    return record.description.split(\"/\")[num]"
   ]
  },
  {
   "cell_type": "markdown",
   "metadata": {},
   "source": [
    "`get_level(record, -3)` - описание последовательности выглядит так (посмотрите в vscode сам файлик .fasta, можно будет на структуру посмотреть файлика): `<taxonomy>/<id>`\n",
    "\n",
    "`<id>` - последние два значения через слеши, их убрать надо и взять только название вида:\n",
    "\n",
    "<strike>cellular organisms/Bacteria/FCB group/Bacteroidota/Chlorobiota group/Bacteroidota/Bacteroidia/Marinilabiliales/Prolixibacteraceae/</strike>Draconibacterium<strike>/X5DE21_9BACT/199-424</strike>\n"
   ]
  },
  {
   "cell_type": "code",
   "execution_count": null,
   "metadata": {},
   "outputs": [],
   "source": []
  },
  {
   "cell_type": "code",
   "execution_count": 26,
   "metadata": {},
   "outputs": [
    {
     "data": {
      "text/plain": [
       "61"
      ]
     },
     "execution_count": 26,
     "metadata": {},
     "output_type": "execute_result"
    }
   ],
   "source": [
    "records = [SeqRecord(record.seq, \n",
    "                     f'{get_level(record, -3)}/{get_level(record, -2)}/{get_level(record, -1)}', \n",
    "                     name='', description='') for record in align._records if filter(record, 'Fungi', 'Bacteria')]\n",
    "len(records)"
   ]
  },
  {
   "cell_type": "code",
   "execution_count": 27,
   "metadata": {},
   "outputs": [
    {
     "data": {
      "text/plain": [
       "118"
      ]
     },
     "execution_count": 27,
     "metadata": {},
     "output_type": "execute_result"
    }
   ],
   "source": [
    "records_only_fungi = [SeqRecord(record.seq, \n",
    "                                f'{get_level(record, -3)}/{get_level(record, -2)}/{get_level(record, -1)}', \n",
    "                                name='', description='') for record in align._records if not filter(record, 'Fungi')]\n",
    "len(records_only_fungi)"
   ]
  },
  {
   "cell_type": "code",
   "execution_count": 28,
   "metadata": {},
   "outputs": [
    {
     "data": {
      "text/plain": [
       "8"
      ]
     },
     "execution_count": 28,
     "metadata": {},
     "output_type": "execute_result"
    }
   ],
   "source": [
    "records_only_bacteria = [SeqRecord(record.seq, \n",
    "                                   f'{get_level(record, -3)}/{get_level(record, -2)}/{get_level(record, -1)}', \n",
    "                                   name='', description='') \n",
    "                                   for record in align._records if not filter(record, 'Bacteria')]\n",
    "len(records_only_bacteria)\n"
   ]
  },
  {
   "cell_type": "code",
   "execution_count": 29,
   "metadata": {},
   "outputs": [
    {
     "data": {
      "text/plain": [
       "<<class 'Bio.Align.MultipleSeqAlignment'> instance (187 records of length 437) at 12d18171660>"
      ]
     },
     "execution_count": 29,
     "metadata": {},
     "output_type": "execute_result"
    }
   ],
   "source": [
    "all_records = records + records_only_fungi + records_only_bacteria\n",
    "all_records = MultipleSeqAlignment(all_records)\n",
    "all_records.sort()\n",
    "\n",
    "all_records"
   ]
  },
  {
   "cell_type": "code",
   "execution_count": 30,
   "metadata": {},
   "outputs": [
    {
     "data": {
      "text/plain": [
       "1"
      ]
     },
     "execution_count": 30,
     "metadata": {},
     "output_type": "execute_result"
    }
   ],
   "source": [
    "AlignIO.write(all_records, open(f'data/seed_{NUMBER}/align_seed_names_{NUMBER}.fasta', \"w\"), \"fasta\")"
   ]
  }
 ],
 "metadata": {
  "kernelspec": {
   "display_name": "bigdata1",
   "language": "python",
   "name": "python3"
  },
  "language_info": {
   "codemirror_mode": {
    "name": "ipython",
    "version": 3
   },
   "file_extension": ".py",
   "mimetype": "text/x-python",
   "name": "python",
   "nbconvert_exporter": "python",
   "pygments_lexer": "ipython3",
   "version": "3.10.4"
  }
 },
 "nbformat": 4,
 "nbformat_minor": 2
}
